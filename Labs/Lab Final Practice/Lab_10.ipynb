{
 "cells": [
  {
   "cell_type": "markdown",
   "metadata": {},
   "source": [
    "# Jacobi Method"
   ]
  },
  {
   "cell_type": "code",
   "execution_count": 5,
   "metadata": {},
   "outputs": [
    {
     "name": "stdout",
     "output_type": "stream",
     "text": [
      "Converged in 19 iterations.\n",
      "Solution: [4.99999975 4.99999956 4.99999953 4.99999962]\n"
     ]
    }
   ],
   "source": [
    "import numpy as np\n",
    "\n",
    "def jacobi(A, b, x, tol=1e-6, iters=100):\n",
    "\n",
    "    n = len(b)\n",
    "    x_new = np.zeros_like(x)\n",
    "\n",
    "    Ab = np.hstack([A, b.reshape(-1, 1)])\n",
    "\n",
    "    for iter in range(iters):\n",
    "        for i in range(n):\n",
    "            x_new[i] = (b[i] - np.sum(np.array([ Ab[i, k] * x[k] if i != k else 0 for k in range(n) ]))) / A[i, i]\n",
    "\n",
    "                    # Convergence test: Check the difference between x_new and x\n",
    "        if np.linalg.norm(x_new - x, ord=np.inf) < tol:  # Using max norm\n",
    "            print(f\"Converged in {iter + 1} iterations.\")\n",
    "            return x_new\n",
    "\n",
    "        x = x_new.copy()\n",
    "\n",
    "\n",
    "    return x_new\n",
    "\n",
    "\n",
    "A = np.array([[4, -1, 0, 0],\n",
    "              [-1, 4, -1, 0],\n",
    "              [0, -1, 4, -1],\n",
    "              [0, 0, -1, 3]], dtype=float)\n",
    "\n",
    "b = np.array([15, 10, 10, 10], dtype=float)\n",
    "x = np.zeros(len(b))\n",
    "solution = jacobi(A, b, x)\n",
    "print(\"Solution:\", solution)"
   ]
  }
 ],
 "metadata": {
  "kernelspec": {
   "display_name": "Python 3",
   "language": "python",
   "name": "python3"
  },
  "language_info": {
   "codemirror_mode": {
    "name": "ipython",
    "version": 3
   },
   "file_extension": ".py",
   "mimetype": "text/x-python",
   "name": "python",
   "nbconvert_exporter": "python",
   "pygments_lexer": "ipython3",
   "version": "3.12.4"
  }
 },
 "nbformat": 4,
 "nbformat_minor": 2
}
