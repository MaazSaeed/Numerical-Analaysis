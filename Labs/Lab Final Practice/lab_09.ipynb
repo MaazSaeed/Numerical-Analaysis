{
 "cells": [
  {
   "cell_type": "markdown",
   "metadata": {},
   "source": [
    "### Lab 09 - Direct Methods for Solving Linear Systems"
   ]
  },
  {
   "cell_type": "markdown",
   "metadata": {},
   "source": [
    "# Matrix Inversion method"
   ]
  },
  {
   "cell_type": "code",
   "execution_count": 3,
   "metadata": {},
   "outputs": [],
   "source": [
    "import numpy as np\n",
    "\n",
    "A = np.array([[3, 1], [1, 2]])\n",
    "b = np.array([9, 8])\n",
    "\n",
    "A_inv = np.linalg.inv(A)"
   ]
  },
  {
   "cell_type": "code",
   "execution_count": 4,
   "metadata": {},
   "outputs": [
    {
     "name": "stdout",
     "output_type": "stream",
     "text": [
      "[[ 0.4 -0.2]\n",
      " [-0.2  0.6]]\n"
     ]
    }
   ],
   "source": [
    "print(A_inv)"
   ]
  },
  {
   "cell_type": "code",
   "execution_count": 5,
   "metadata": {},
   "outputs": [
    {
     "name": "stdout",
     "output_type": "stream",
     "text": [
      "[2. 3.]\n"
     ]
    }
   ],
   "source": [
    "print(np.dot(A_inv, b))"
   ]
  },
  {
   "cell_type": "markdown",
   "metadata": {},
   "source": [
    "# Gaussian Elimination Method"
   ]
  },
  {
   "cell_type": "markdown",
   "metadata": {},
   "source": [
    "This method transforms the system of equations into an upper triangular matrix from which solution can be obtained via back-substitution. The augmented matrix [A | b]"
   ]
  },
  {
   "cell_type": "code",
   "execution_count": 6,
   "metadata": {},
   "outputs": [
    {
     "data": {
      "text/plain": [
       "array([[9],\n",
       "       [8]])"
      ]
     },
     "execution_count": 6,
     "metadata": {},
     "output_type": "execute_result"
    }
   ],
   "source": [
    "b.reshape(-1, 1)"
   ]
  },
  {
   "cell_type": "code",
   "execution_count": 7,
   "metadata": {},
   "outputs": [
    {
     "data": {
      "text/plain": [
       "array([[3, 1, 9],\n",
       "       [1, 2, 8]])"
      ]
     },
     "execution_count": 7,
     "metadata": {},
     "output_type": "execute_result"
    }
   ],
   "source": [
    "np.hstack((A, b.reshape(-1, 1)))"
   ]
  },
  {
   "cell_type": "code",
   "execution_count": 8,
   "metadata": {},
   "outputs": [],
   "source": [
    "def gaussian_elimination(A, b):\n",
    "    n = len(b)\n",
    "\n",
    "    Ab = np.hstack([A, b.reshape(-1, 1)])\n",
    "\n",
    "    print(Ab[0, 0])\n"
   ]
  },
  {
   "cell_type": "code",
   "execution_count": 9,
   "metadata": {},
   "outputs": [
    {
     "name": "stdout",
     "output_type": "stream",
     "text": [
      "3.0\n",
      "Solution x: None\n"
     ]
    }
   ],
   "source": [
    "A = np.array([[3, 1], [1, 2]], dtype=float)\n",
    "b = np.array([9, 8], dtype=float)\n",
    "\n",
    "# Solve the system using Gaussian Elimination\n",
    "x = gaussian_elimination(A, b)\n",
    "print(\"Solution x:\", x)"
   ]
  },
  {
   "cell_type": "code",
   "execution_count": 10,
   "metadata": {},
   "outputs": [],
   "source": [
    "def gauss_elimination(A, b):\n",
    "    n = len(b)\n",
    "\n",
    "    Ab = np.hstack([A, b.reshape(-1, 1)])\n",
    "\n",
    "\n",
    "    for i in range(n):\n",
    "        pivot = Ab[i, i]\n",
    "        if pivot == 0:\n",
    "            raise ValueError(\"Cannot proceed with gaussian method!\")\n",
    "        \n",
    "        Ab[i] = Ab[i] / pivot\n",
    "\n",
    "        for j in range(i + 1, n):\n",
    "            scale = Ab[j, i]\n",
    "            Ab[j] = Ab[j] - scale * Ab[i]\n",
    "\n",
    "    xs = np.zeros(n)\n",
    "    for i in range(n - 1, -1, -1):\n",
    "        xs[i] = Ab[i, -1] - np.dot(Ab[i, i+1:n], xs[i+1:])\n",
    "\n",
    "\n",
    "    return xs\n",
    "        \n",
    "        \n",
    "\n"
   ]
  },
  {
   "cell_type": "code",
   "execution_count": 11,
   "metadata": {},
   "outputs": [
    {
     "name": "stdout",
     "output_type": "stream",
     "text": [
      "[2. 3.]\n"
     ]
    }
   ],
   "source": [
    "A = np.array([[3, 1], [1, 2]])\n",
    "b = np.array([9, 8], dtype=float)\n",
    "\n",
    "print(gauss_elimination(A, b))"
   ]
  },
  {
   "cell_type": "code",
   "execution_count": 12,
   "metadata": {},
   "outputs": [],
   "source": [
    "def gauss_elim(A, b):\n",
    "    n = len(b)\n",
    "\n",
    "\n",
    "    Ab = np.hstack([A, b.reshape(-1, 1)])\n",
    "\n",
    "\n",
    "    for i in range(n):\n",
    "        pivot = Ab[i, i]\n",
    "\n",
    "        if pivot == 0:\n",
    "            raise ValueError(\"Ah!!!\")\n",
    "        \n",
    "        Ab[i] = Ab[i] / pivot\n",
    "\n",
    "\n",
    "        for j in range(i + 1, n):\n",
    "            scale = Ab[j, i]\n",
    "            Ab[j] = Ab[j] - scale * Ab[i]\n",
    "\n",
    "        xs = np.zeros(n)\n",
    "\n",
    "    for i in range(n - 1, -1, -1):\n",
    "        xs[i] = Ab[i,-1] - np.dot(Ab[i, i+1:n], xs[i+1:])\n",
    "\n",
    "    return xs\n",
    "    "
   ]
  },
  {
   "cell_type": "code",
   "execution_count": 13,
   "metadata": {},
   "outputs": [
    {
     "name": "stdout",
     "output_type": "stream",
     "text": [
      "[2. 3.]\n"
     ]
    }
   ],
   "source": [
    "A = np.array([[3, 1], [1, 2]])\n",
    "b = np.array([9, 8], dtype=float)\n",
    "\n",
    "print(gauss_elim(A, b))"
   ]
  },
  {
   "cell_type": "markdown",
   "metadata": {},
   "source": [
    "## Gaussian Elimination with Backward Substitution (Without Pivoting)"
   ]
  },
  {
   "cell_type": "code",
   "execution_count": 17,
   "metadata": {},
   "outputs": [
    {
     "name": "stdout",
     "output_type": "stream",
     "text": [
      "Solution x: [2. 3. 0.]\n"
     ]
    }
   ],
   "source": [
    "# your code here\n",
    "def gauss_elim_no_pivot(A, b):\n",
    "    n = len(b)\n",
    "\n",
    "    Ab = np.hstack([A, b.reshape(-1, 1)])\n",
    "\n",
    "    for i in range(n):\n",
    "        for j in range(i + 1, n):\n",
    "            factor = Ab[j, i] / Ab[i, i]\n",
    "            Ab[j] = Ab[j] - factor * Ab[i]\n",
    "\n",
    "    \n",
    "    # Backward substituion\n",
    "    xs = np.zeros(n)\n",
    "    for i in range(n - 1, -1, -1):\n",
    "        xs[i] = (Ab[i, - 1] - np.dot(Ab[i, i + 1:n], xs[i+1:])) / Ab[i, i]\n",
    "\n",
    "    return xs\n",
    "\n",
    "# Example system of equations\n",
    "A = np.array([[3, 1, 2], [1, 2, 3], [2, 1, 3]], dtype=float)\n",
    "b = np.array([9, 8, 7], dtype=float)\n",
    "\n",
    "# Solve the system using Gaussian elimination (no pivoting)\n",
    "x = gauss_elim_no_pivot(A, b)\n",
    "print(\"Solution x:\", x)\n"
   ]
  },
  {
   "cell_type": "markdown",
   "metadata": {},
   "source": [
    "### LU Decomposition"
   ]
  },
  {
   "cell_type": "code",
   "execution_count": 18,
   "metadata": {},
   "outputs": [],
   "source": [
    "def lu_decomposition(A, b):\n",
    "    n = len(b)\n",
    "\n",
    "    Ab = np.hstack([A, b.reshape(-1, 1)])\n",
    "\n",
    "    L = np.zeros_like(A)\n",
    "\n",
    "    for i in range(n):\n",
    "        for j in range(i + 1, n):\n",
    "            factor = Ab[j, i] / Ab[i, i]\n",
    "            Ab[j] = Ab[j] - factor * Ab[i]\n",
    "            L[j, i] = factor # For Lower Triangular Matrix\n",
    "\n",
    "\n",
    "    return L, Ab\n"
   ]
  },
  {
   "cell_type": "code",
   "execution_count": 22,
   "metadata": {},
   "outputs": [],
   "source": [
    "A = np.array([[2, 4, 3],\n",
    "              [-4, -7, -5],\n",
    "              [6, 8, 2],\n",
    "              [4, 9, -2]])\n",
    "b =np.array([5, -8, 9, 14])\n",
    "\n",
    "l, u = lu_decomposition(A, b)"
   ]
  },
  {
   "cell_type": "code",
   "execution_count": 23,
   "metadata": {},
   "outputs": [
    {
     "name": "stdout",
     "output_type": "stream",
     "text": [
      "[[ 0  0  0]\n",
      " [-2  0  0]\n",
      " [ 3 -4  0]\n",
      " [ 2  1  3]]\n",
      "[[ 2  4  3  5]\n",
      " [ 0  1  1  2]\n",
      " [ 0  0 -3  2]\n",
      " [ 0  0  0 -4]]\n"
     ]
    }
   ],
   "source": [
    "print(l)\n",
    "print(u)"
   ]
  },
  {
   "cell_type": "code",
   "execution_count": null,
   "metadata": {},
   "outputs": [],
   "source": []
  }
 ],
 "metadata": {
  "kernelspec": {
   "display_name": "Python 3",
   "language": "python",
   "name": "python3"
  },
  "language_info": {
   "codemirror_mode": {
    "name": "ipython",
    "version": 3
   },
   "file_extension": ".py",
   "mimetype": "text/x-python",
   "name": "python",
   "nbconvert_exporter": "python",
   "pygments_lexer": "ipython3",
   "version": "3.12.4"
  }
 },
 "nbformat": 4,
 "nbformat_minor": 2
}
