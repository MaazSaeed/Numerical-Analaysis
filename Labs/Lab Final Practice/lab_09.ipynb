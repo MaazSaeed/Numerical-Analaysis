{
 "cells": [
  {
   "cell_type": "markdown",
   "metadata": {},
   "source": [
    "### Lab 09 - Direct Methods for Solving Linear Systems"
   ]
  },
  {
   "cell_type": "markdown",
   "metadata": {},
   "source": [
    "# Matrix Inversion method"
   ]
  },
  {
   "cell_type": "code",
   "execution_count": 1,
   "metadata": {},
   "outputs": [],
   "source": [
    "import numpy as np\n",
    "\n",
    "A = np.array([[3, 1], [1, 2]])\n",
    "b = np.array([9, 8])\n",
    "\n",
    "A_inv = np.linalg.inv(A)"
   ]
  },
  {
   "cell_type": "code",
   "execution_count": null,
   "metadata": {},
   "outputs": [],
   "source": [
    "print(A_inv)"
   ]
  },
  {
   "cell_type": "code",
   "execution_count": null,
   "metadata": {},
   "outputs": [],
   "source": [
    "print(np.dot(A_inv, b))"
   ]
  },
  {
   "cell_type": "markdown",
   "metadata": {},
   "source": [
    "# Gaussian Elimination Method"
   ]
  },
  {
   "cell_type": "markdown",
   "metadata": {},
   "source": [
    "This method transforms the system of equations into an upper triangular matrix from which solution can be obtained via back-substitution. The augmented matrix [A | b]"
   ]
  },
  {
   "cell_type": "code",
   "execution_count": 15,
   "metadata": {},
   "outputs": [
    {
     "data": {
      "text/plain": [
       "array([[9],\n",
       "       [8]])"
      ]
     },
     "execution_count": 15,
     "metadata": {},
     "output_type": "execute_result"
    }
   ],
   "source": [
    "b.reshape(-1, 1)"
   ]
  },
  {
   "cell_type": "code",
   "execution_count": 16,
   "metadata": {},
   "outputs": [
    {
     "data": {
      "text/plain": [
       "array([[3, 1, 9],\n",
       "       [1, 2, 8]])"
      ]
     },
     "execution_count": 16,
     "metadata": {},
     "output_type": "execute_result"
    }
   ],
   "source": [
    "np.hstack((A, b.reshape(-1, 1)))"
   ]
  },
  {
   "cell_type": "code",
   "execution_count": 22,
   "metadata": {},
   "outputs": [],
   "source": [
    "def gaussian_elimination(A, b):\n",
    "    n = len(b)\n",
    "\n",
    "    Ab = np.hstack([A, b.reshape(-1, 1)])\n",
    "\n",
    "    print(Ab[0, 0])\n"
   ]
  },
  {
   "cell_type": "code",
   "execution_count": 23,
   "metadata": {},
   "outputs": [
    {
     "name": "stdout",
     "output_type": "stream",
     "text": [
      "3.0\n",
      "Solution x: None\n"
     ]
    }
   ],
   "source": [
    "A = np.array([[3, 1], [1, 2]], dtype=float)\n",
    "b = np.array([9, 8], dtype=float)\n",
    "\n",
    "# Solve the system using Gaussian Elimination\n",
    "x = gaussian_elimination(A, b)\n",
    "print(\"Solution x:\", x)"
   ]
  },
  {
   "cell_type": "code",
   "execution_count": 52,
   "metadata": {},
   "outputs": [],
   "source": [
    "def gauss_elimination(A, b):\n",
    "    n = len(b)\n",
    "\n",
    "    Ab = np.hstack([A, b.reshape(-1, 1)])\n",
    "\n",
    "\n",
    "    for i in range(n):\n",
    "        pivot = Ab[i, i]\n",
    "        if pivot == 0:\n",
    "            raise ValueError(\"Cannot proceed with gaussian method!\")\n",
    "        \n",
    "        Ab[i] = Ab[i] / pivot\n",
    "\n",
    "        for j in range(i + 1, n):\n",
    "            scale = Ab[j, i]\n",
    "            Ab[j] = Ab[j] - scale * Ab[i]\n",
    "\n",
    "    xs = np.zeros(n)\n",
    "    for i in range(n - 1, -1, -1):\n",
    "        xs[i] = Ab[i, -1] - np.dot(Ab[i, i+1:n], xs[i+1:])\n",
    "\n",
    "\n",
    "    return xs\n",
    "        \n",
    "        \n",
    "\n"
   ]
  },
  {
   "cell_type": "code",
   "execution_count": 53,
   "metadata": {},
   "outputs": [
    {
     "name": "stdout",
     "output_type": "stream",
     "text": [
      "[2. 3.]\n"
     ]
    }
   ],
   "source": [
    "A = np.array([[3, 1], [1, 2]])\n",
    "b = np.array([9, 8], dtype=float)\n",
    "\n",
    "print(gauss_elimination(A, b))"
   ]
  },
  {
   "cell_type": "code",
   "execution_count": 63,
   "metadata": {},
   "outputs": [],
   "source": [
    "def gauss_elim(A, b):\n",
    "    n = len(b)\n",
    "\n",
    "\n",
    "    Ab = np.hstack([A, b.reshape(-1, 1)])\n",
    "\n",
    "\n",
    "    for i in range(n):\n",
    "        pivot = Ab[i, i]\n",
    "\n",
    "        if pivot == 0:\n",
    "            raise ValueError(\"Ah!!!\")\n",
    "        \n",
    "        Ab[i] = Ab[i] / pivot\n",
    "\n",
    "\n",
    "        for j in range(i + 1, n):\n",
    "            scale = Ab[j, i]\n",
    "            Ab[j] = Ab[j] - scale * Ab[i]\n",
    "\n",
    "        xs = np.zeros(n)\n",
    "\n",
    "    for i in range(n - 1, -1, -1):\n",
    "        xs[i] = Ab[i,-1] - np.dot(Ab[i, i+1:n], xs[i+1:])\n",
    "\n",
    "    return xs\n",
    "    "
   ]
  },
  {
   "cell_type": "code",
   "execution_count": 64,
   "metadata": {},
   "outputs": [
    {
     "name": "stdout",
     "output_type": "stream",
     "text": [
      "[2. 3.]\n"
     ]
    }
   ],
   "source": [
    "A = np.array([[3, 1], [1, 2]])\n",
    "b = np.array([9, 8], dtype=float)\n",
    "\n",
    "print(gauss_elim(A, b))"
   ]
  },
  {
   "cell_type": "code",
   "execution_count": null,
   "metadata": {},
   "outputs": [],
   "source": []
  }
 ],
 "metadata": {
  "kernelspec": {
   "display_name": "Python 3",
   "language": "python",
   "name": "python3"
  },
  "language_info": {
   "codemirror_mode": {
    "name": "ipython",
    "version": 3
   },
   "file_extension": ".py",
   "mimetype": "text/x-python",
   "name": "python",
   "nbconvert_exporter": "python",
   "pygments_lexer": "ipython3",
   "version": "3.12.4"
  }
 },
 "nbformat": 4,
 "nbformat_minor": 2
}
