{
 "cells": [
  {
   "cell_type": "markdown",
   "metadata": {},
   "source": [
    "### Lab 09 - Direct Methods for Solving Linear Systems"
   ]
  },
  {
   "cell_type": "markdown",
   "metadata": {},
   "source": [
    "# Matrix Inversion method"
   ]
  },
  {
   "cell_type": "code",
   "execution_count": 114,
   "metadata": {},
   "outputs": [],
   "source": [
    "import numpy as np\n",
    "\n",
    "A = np.array([[3, 1], [1, 2]])\n",
    "b = np.array([9, 8])\n",
    "\n",
    "A_inv = np.linalg.inv(A)"
   ]
  },
  {
   "cell_type": "code",
   "execution_count": 115,
   "metadata": {},
   "outputs": [
    {
     "name": "stdout",
     "output_type": "stream",
     "text": [
      "[[ 0.4 -0.2]\n",
      " [-0.2  0.6]]\n"
     ]
    }
   ],
   "source": [
    "print(A_inv)"
   ]
  },
  {
   "cell_type": "code",
   "execution_count": 116,
   "metadata": {},
   "outputs": [
    {
     "name": "stdout",
     "output_type": "stream",
     "text": [
      "[2. 3.]\n"
     ]
    }
   ],
   "source": [
    "print(np.dot(A_inv, b))"
   ]
  },
  {
   "cell_type": "markdown",
   "metadata": {},
   "source": [
    "# Gaussian Elimination Method"
   ]
  },
  {
   "cell_type": "markdown",
   "metadata": {},
   "source": [
    "This method transforms the system of equations into an upper triangular matrix from which solution can be obtained via back-substitution. The augmented matrix [A | b]"
   ]
  },
  {
   "cell_type": "code",
   "execution_count": 117,
   "metadata": {},
   "outputs": [
    {
     "data": {
      "text/plain": [
       "array([[9],\n",
       "       [8]])"
      ]
     },
     "execution_count": 117,
     "metadata": {},
     "output_type": "execute_result"
    }
   ],
   "source": [
    "b.reshape(-1, 1)"
   ]
  },
  {
   "cell_type": "code",
   "execution_count": 118,
   "metadata": {},
   "outputs": [
    {
     "data": {
      "text/plain": [
       "array([[3, 1, 9],\n",
       "       [1, 2, 8]])"
      ]
     },
     "execution_count": 118,
     "metadata": {},
     "output_type": "execute_result"
    }
   ],
   "source": [
    "np.hstack((A, b.reshape(-1, 1)))"
   ]
  },
  {
   "cell_type": "code",
   "execution_count": 119,
   "metadata": {},
   "outputs": [],
   "source": [
    "def gaussian_elimination(A, b):\n",
    "    n = len(b)\n",
    "\n",
    "    Ab = np.hstack([A, b.reshape(-1, 1)])\n",
    "\n",
    "    print(Ab[0, 0])\n"
   ]
  },
  {
   "cell_type": "code",
   "execution_count": 120,
   "metadata": {},
   "outputs": [
    {
     "name": "stdout",
     "output_type": "stream",
     "text": [
      "3.0\n",
      "Solution x: None\n"
     ]
    }
   ],
   "source": [
    "A = np.array([[3, 1], [1, 2]], dtype=float)\n",
    "b = np.array([9, 8], dtype=float)\n",
    "\n",
    "# Solve the system using Gaussian Elimination\n",
    "x = gaussian_elimination(A, b)\n",
    "print(\"Solution x:\", x)"
   ]
  },
  {
   "cell_type": "code",
   "execution_count": 121,
   "metadata": {},
   "outputs": [],
   "source": [
    "def gauss_elimination(A, b):\n",
    "    n = len(b)\n",
    "\n",
    "    Ab = np.hstack([A, b.reshape(-1, 1)])\n",
    "\n",
    "\n",
    "    for i in range(n):\n",
    "        pivot = Ab[i, i]\n",
    "        if pivot == 0:\n",
    "            raise ValueError(\"Cannot proceed with gaussian method!\")\n",
    "        \n",
    "        Ab[i] = Ab[i] / pivot\n",
    "\n",
    "        for j in range(i + 1, n):\n",
    "            scale = Ab[j, i]\n",
    "            Ab[j] = Ab[j] - scale * Ab[i]\n",
    "\n",
    "    xs = np.zeros(n)\n",
    "    for i in range(n - 1, -1, -1):\n",
    "        xs[i] = Ab[i, -1] - np.dot(Ab[i, i+1:n], xs[i+1:])\n",
    "\n",
    "\n",
    "    return xs\n",
    "        \n",
    "        \n",
    "\n"
   ]
  },
  {
   "cell_type": "code",
   "execution_count": 122,
   "metadata": {},
   "outputs": [
    {
     "name": "stdout",
     "output_type": "stream",
     "text": [
      "[2. 3.]\n"
     ]
    }
   ],
   "source": [
    "A = np.array([[3, 1], [1, 2]])\n",
    "b = np.array([9, 8], dtype=float)\n",
    "\n",
    "print(gauss_elimination(A, b))"
   ]
  },
  {
   "cell_type": "code",
   "execution_count": 123,
   "metadata": {},
   "outputs": [],
   "source": [
    "def gauss_elim(A, b):\n",
    "    n = len(b)\n",
    "\n",
    "\n",
    "    Ab = np.hstack([A, b.reshape(-1, 1)])\n",
    "\n",
    "\n",
    "    for i in range(n):\n",
    "        pivot = Ab[i, i]\n",
    "\n",
    "        if pivot == 0:\n",
    "            raise ValueError(\"Ah!!!\")\n",
    "        \n",
    "        Ab[i] = Ab[i] / pivot\n",
    "\n",
    "\n",
    "        for j in range(i + 1, n):\n",
    "            scale = Ab[j, i]\n",
    "            Ab[j] = Ab[j] - scale * Ab[i]\n",
    "\n",
    "        xs = np.zeros(n)\n",
    "\n",
    "    for i in range(n - 1, -1, -1):\n",
    "        xs[i] = Ab[i,-1] - np.dot(Ab[i, i+1:n], xs[i+1:])\n",
    "\n",
    "    return xs\n",
    "    "
   ]
  },
  {
   "cell_type": "code",
   "execution_count": 124,
   "metadata": {},
   "outputs": [
    {
     "name": "stdout",
     "output_type": "stream",
     "text": [
      "[2. 3.]\n"
     ]
    }
   ],
   "source": [
    "A = np.array([[3, 1], [1, 2]])\n",
    "b = np.array([9, 8], dtype=float)\n",
    "\n",
    "print(gauss_elim(A, b))"
   ]
  },
  {
   "cell_type": "markdown",
   "metadata": {},
   "source": [
    "## Gaussian Elimination with Backward Substitution (Without Pivoting)"
   ]
  },
  {
   "cell_type": "code",
   "execution_count": 125,
   "metadata": {},
   "outputs": [
    {
     "name": "stdout",
     "output_type": "stream",
     "text": [
      "Solution x: [2. 3. 0.]\n"
     ]
    }
   ],
   "source": [
    "# your code here\n",
    "def gauss_elim_no_pivot(A, b):\n",
    "    n = len(b)\n",
    "\n",
    "    Ab = np.hstack([A, b.reshape(-1, 1)])\n",
    "\n",
    "    for i in range(n):\n",
    "        for j in range(i + 1, n):\n",
    "            factor = Ab[j, i] / Ab[i, i]\n",
    "            Ab[j] = Ab[j] - factor * Ab[i]\n",
    "\n",
    "    \n",
    "    # Backward substituion\n",
    "    xs = np.zeros(n)\n",
    "    for i in range(n - 1, -1, -1):\n",
    "        xs[i] = (Ab[i, - 1] - np.dot(Ab[i, i + 1:n], xs[i+1:])) / Ab[i, i]\n",
    "\n",
    "    return xs\n",
    "\n",
    "# Example system of equations\n",
    "A = np.array([[3, 1, 2], [1, 2, 3], [2, 1, 3]], dtype=float)\n",
    "b = np.array([9, 8, 7], dtype=float)\n",
    "\n",
    "# Solve the system using Gaussian elimination (no pivoting)\n",
    "x = gauss_elim_no_pivot(A, b)\n",
    "print(\"Solution x:\", x)\n"
   ]
  },
  {
   "cell_type": "markdown",
   "metadata": {},
   "source": [
    "### LU Decomposition"
   ]
  },
  {
   "cell_type": "code",
   "execution_count": 126,
   "metadata": {},
   "outputs": [],
   "source": [
    "def lu_decomposition(A):\n",
    "    n = len(A)\n",
    "    L = np.zeros_like(A)\n",
    "\n",
    "    # Using Gaussian Elimination result in an upper triangular matrix\n",
    "    # Meanwhile the factors form the lower triangular matrix,\n",
    "    # Thus we can store them in L\n",
    "    for i in range(n):\n",
    "        for j in range(i + 1, n):\n",
    "            factor = A[j, i] / A[i, i]\n",
    "            A[j] = A[j] - factor * A[i]\n",
    "            L[j, i] = factor # For Lower Triangular Matrix\n",
    "\n",
    "    np.fill_diagonal(L, 1)\n",
    "    return L, A\n"
   ]
  },
  {
   "cell_type": "code",
   "execution_count": 127,
   "metadata": {},
   "outputs": [],
   "source": [
    "def forward_substitution(L, b):\n",
    "    n = len(b)\n",
    "    y = np.zeros_like(b, dtype=float)\n",
    "    \n",
    "    for i in range(n):\n",
    "        y[i] = b[i] - np.dot(L[i, :i], y[:i])\n",
    "    \n",
    "    return y\n",
    "\n",
    "def backward_substitution(U, y):\n",
    "\n",
    "    n = len(y)\n",
    "    x = np.zeros_like(y, dtype=float)\n",
    "    \n",
    "    for i in range(n-1, -1, -1):\n",
    "        x[i] = (y[i] - np.dot(U[i, i+1:], x[i+1:])) / U[i, i]\n",
    "    \n",
    "    return x"
   ]
  },
  {
   "cell_type": "code",
   "execution_count": 128,
   "metadata": {},
   "outputs": [
    {
     "name": "stdout",
     "output_type": "stream",
     "text": [
      "Solution vector x:\n",
      "[1. 2.]\n"
     ]
    }
   ],
   "source": [
    "def solve_system(A, b):\n",
    "    \"\"\"\n",
    "    Solve the system of linear equations Ax = b using LU decomposition.\n",
    "    \"\"\"\n",
    "    # Step 1: Perform LU decomposition\n",
    "    L, U = lu_decomposition(A)\n",
    "    \n",
    "    # Step 2: Solve Ly = b\n",
    "    y = forward_substitution(L, b)\n",
    "    \n",
    "    # Step 3: Solve Ux = y\n",
    "    x = backward_substitution(U, y)\n",
    "    \n",
    "    return x\n",
    "\n",
    "\n",
    "A = np.array([[4, 3], [6, 3]], dtype=float)\n",
    "b = np.array([10, 12], dtype=float)\n",
    "\n",
    "x = solve_system(A, b)\n",
    "\n",
    "print(\"Solution vector x:\")\n",
    "print(x)"
   ]
  }
 ],
 "metadata": {
  "kernelspec": {
   "display_name": "Python 3",
   "language": "python",
   "name": "python3"
  },
  "language_info": {
   "codemirror_mode": {
    "name": "ipython",
    "version": 3
   },
   "file_extension": ".py",
   "mimetype": "text/x-python",
   "name": "python",
   "nbconvert_exporter": "python",
   "pygments_lexer": "ipython3",
   "version": "3.12.4"
  }
 },
 "nbformat": 4,
 "nbformat_minor": 2
}
