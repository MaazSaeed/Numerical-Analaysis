{
 "cells": [
  {
   "cell_type": "code",
   "execution_count": 5,
   "metadata": {},
   "outputs": [],
   "source": [
    "import numpy as np\n",
    "import matplotlib.pyplot as plt\n",
    "from sympy import symbols, diff, lambdify, factorial, cos, sin"
   ]
  },
  {
   "cell_type": "code",
   "execution_count": 6,
   "metadata": {},
   "outputs": [
    {
     "name": "stdout",
     "output_type": "stream",
     "text": [
      "[ 1.     -0.75   -0.75    1.3125]\n"
     ]
    }
   ],
   "source": [
    "# Divided Difference method\n",
    "x = symbols('x')\n",
    "\n",
    "\n",
    "def div_diff(x_in, y_out):\n",
    "    n = len(y_out)\n",
    "    dd = np.zeros((n, n)) # 2D array\n",
    "    dd[:, 0] = y_out\n",
    "\n",
    "    for i in range(1, n):\n",
    "        for j in range(n - i):\n",
    "            dy = dd[j+1][i-1] - dd[j][i-1]\n",
    "            dx = x_in[j+i] - x_in[j]\n",
    "            dd[j][i] = dy/dx\n",
    "    return dd[0,:] # coefficients\n",
    "\n",
    "print(div_diff([0, 2/3, 1, 2], [1, 0.5, 0, 1]))"
   ]
  },
  {
   "cell_type": "code",
   "execution_count": 7,
   "metadata": {},
   "outputs": [
    {
     "data": {
      "text/latex": [
       "$\\displaystyle 1.3125 x \\left(x - 1\\right) \\left(x - 0.666666666666667\\right) - 0.75 x \\left(x - 0.666666666666667\\right) - 0.75 x + 1.0$"
      ],
      "text/plain": [
       "1.3125*x*(x - 1)*(x - 0.666666666666667) - 0.75*x*(x - 0.666666666666667) - 0.75*x + 1.0"
      ]
     },
     "execution_count": 7,
     "metadata": {},
     "output_type": "execute_result"
    }
   ],
   "source": [
    "def dd_poly(coeff, x_vals):\n",
    "    n = len(coeff)\n",
    "    poly = 0\n",
    "    for i in range(n):\n",
    "        term = coeff[i]\n",
    "        for j in range(i):\n",
    "            term *= x - x_vals[j]\n",
    "        poly += term\n",
    "    \n",
    "    return poly\n",
    "\n",
    "x_vals = [0, 2/3, 1, 2]\n",
    "y_vals = [1, 0.5, 0, 1]\n",
    "dd_poly(div_diff(x_vals, y_vals), x_vals)\n"
   ]
  },
  {
   "cell_type": "code",
   "execution_count": null,
   "metadata": {},
   "outputs": [],
   "source": []
  }
 ],
 "metadata": {
  "kernelspec": {
   "display_name": "Python 3",
   "language": "python",
   "name": "python3"
  },
  "language_info": {
   "codemirror_mode": {
    "name": "ipython",
    "version": 3
   },
   "file_extension": ".py",
   "mimetype": "text/x-python",
   "name": "python",
   "nbconvert_exporter": "python",
   "pygments_lexer": "ipython3",
   "version": "3.12.4"
  }
 },
 "nbformat": 4,
 "nbformat_minor": 2
}
